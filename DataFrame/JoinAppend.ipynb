{
 "cells": [
  {
   "cell_type": "markdown",
   "metadata": {},
   "source": [
    "# Joining and Appending DataFrame"
   ]
  },
  {
   "cell_type": "code",
   "execution_count": 1,
   "metadata": {},
   "outputs": [
    {
     "name": "stdout",
     "output_type": "stream",
     "text": [
      "You are working with 1 cores\n"
     ]
    },
    {
     "data": {
      "text/html": [
       "\n",
       "            <div>\n",
       "                <p><b>SparkSession - in-memory</b></p>\n",
       "                \n",
       "        <div>\n",
       "            <p><b>SparkContext</b></p>\n",
       "\n",
       "            <p><a href=\"http://gw02.itversity.com:4042\">Spark UI</a></p>\n",
       "\n",
       "            <dl>\n",
       "              <dt>Version</dt>\n",
       "                <dd><code>v2.3.0.2.6.5.0-292</code></dd>\n",
       "              <dt>Master</dt>\n",
       "                <dd><code>local[*]</code></dd>\n",
       "              <dt>AppName</dt>\n",
       "                <dd><code>joinsAppend</code></dd>\n",
       "            </dl>\n",
       "        </div>\n",
       "        \n",
       "            </div>\n",
       "        "
      ],
      "text/plain": [
       "<pyspark.sql.session.SparkSession at 0x6a5ce8af7400>"
      ]
     },
     "execution_count": 1,
     "metadata": {},
     "output_type": "execute_result"
    }
   ],
   "source": [
    "import pyspark\n",
    "from pyspark.sql import SparkSession\n",
    "\n",
    "spark = SparkSession.builder.appName(\"joinsAppend\").getOrCreate()\n",
    "cores = spark._jsc.sc().getExecutorMemoryStatus().keySet().size()\n",
    "print(\"You are working with\", cores, \"cores\")\n",
    "spark"
   ]
  },
  {
   "cell_type": "code",
   "execution_count": 2,
   "metadata": {},
   "outputs": [
    {
     "name": "stdout",
     "output_type": "stream",
     "text": [
      "root\n",
      " |-- name: string (nullable = true)\n",
      " |-- id: long (nullable = true)\n",
      " |-- eats_plants: string (nullable = true)\n",
      "\n",
      "None\n",
      "+-----------+---+-----------+\n",
      "|       name| id|eats_plants|\n",
      "+-----------+---+-----------+\n",
      "|      koala|  1|        yes|\n",
      "|caterpillar|  2|        yes|\n",
      "|       deer|  3|        yes|\n",
      "|      human|  4|        yes|\n",
      "+-----------+---+-----------+\n",
      "\n",
      "None\n",
      "root\n",
      " |-- name: string (nullable = true)\n",
      " |-- id: long (nullable = true)\n",
      " |-- eats_meat: string (nullable = true)\n",
      "\n",
      "None\n",
      "+-----+---+---------+\n",
      "| name| id|eats_meat|\n",
      "+-----+---+---------+\n",
      "|shark|  5|      yes|\n",
      "| lion|  6|      yes|\n",
      "|tiger|  7|      yes|\n",
      "|human|  4|      yes|\n",
      "+-----+---+---------+\n",
      "\n",
      "None\n"
     ]
    }
   ],
   "source": [
    "# Random DataFrame\n",
    "\n",
    "valuesP = [('koala', 1, 'yes'), ('caterpillar', 2, 'yes'), ('deer', 3, 'yes'), ('human', 4, 'yes')]\n",
    "eats_plants = spark.createDataFrame(valuesP, ['name', 'id', 'eats_plants'])\n",
    "\n",
    "valuesM = [('shark', 5, 'yes'), ('lion', 6, 'yes'), ('tiger', 7, 'yes'), ('human', 4, 'yes')]\n",
    "eats_meat = spark.createDataFrame(valuesM, ['name', 'id', 'eats_meat'])\n",
    "\n",
    "print(eats_plants.printSchema())\n",
    "print(eats_plants.show())\n",
    "\n",
    "print(eats_meat.printSchema())\n",
    "print(eats_meat.show())"
   ]
  },
  {
   "cell_type": "code",
   "execution_count": 3,
   "metadata": {},
   "outputs": [
    {
     "name": "stdout",
     "output_type": "stream",
     "text": [
      "+-----------+---+-----------+\n",
      "|       name| id|eats_plants|\n",
      "+-----------+---+-----------+\n",
      "|      koala|  1|        yes|\n",
      "|caterpillar|  2|        yes|\n",
      "|       deer|  3|        yes|\n",
      "|      human|  4|        yes|\n",
      "|      koala|  1|        yes|\n",
      "|caterpillar|  2|        yes|\n",
      "|       deer|  3|        yes|\n",
      "|      human|  4|        yes|\n",
      "+-----------+---+-----------+\n",
      "\n",
      "('eats_plants df Counts:', 4, 3)\n",
      "('df_cocat Counts:', 8, 3)\n",
      "+-----------+---+-----------+\n",
      "|       name| id|eats_plants|\n",
      "+-----------+---+-----------+\n",
      "|      koala|  1|        yes|\n",
      "|caterpillar|  2|        yes|\n",
      "|       deer|  3|        yes|\n",
      "|      human|  4|        yes|\n",
      "+-----------+---+-----------+\n",
      "\n",
      "None\n",
      "+-----------+---+-----------+\n",
      "|       name| id|eats_plants|\n",
      "+-----------+---+-----------+\n",
      "|      koala|  1|        yes|\n",
      "|caterpillar|  2|        yes|\n",
      "|       deer|  3|        yes|\n",
      "|      human|  4|        yes|\n",
      "|      koala|  1|        yes|\n",
      "+-----------+---+-----------+\n",
      "only showing top 5 rows\n",
      "\n",
      "None\n"
     ]
    }
   ],
   "source": [
    "new_df = eats_plants\n",
    "df_concat = eats_plants.union(new_df)\n",
    "\n",
    "df_concat.show()\n",
    "print((\"eats_plants df Counts:\", eats_plants.count(), len(eats_plants.columns)))\n",
    "print((\"df_cocat Counts:\", df_concat.count(), len(df_concat.columns)))\n",
    "print(eats_plants.show(5))\n",
    "print(df_concat.show(5))"
   ]
  },
  {
   "cell_type": "code",
   "execution_count": 4,
   "metadata": {},
   "outputs": [
    {
     "name": "stdout",
     "output_type": "stream",
     "text": [
      "Inner Join Example\n",
      "inner_join.show()\n"
     ]
    }
   ],
   "source": [
    "inner_join = eats_plants.join(eats_meat, [\"name\", \"id\"], \"inner\")\n",
    "print(\"Inner Join Example\")\n",
    "print(\"inner_join.show()\")"
   ]
  },
  {
   "cell_type": "code",
   "execution_count": 5,
   "metadata": {},
   "outputs": [
    {
     "name": "stdout",
     "output_type": "stream",
     "text": [
      "Left Join Example\n",
      "+-----------+---+-----------+---------+\n",
      "|       name| id|eats_plants|eats_meat|\n",
      "+-----------+---+-----------+---------+\n",
      "|       deer|  3|        yes|     null|\n",
      "|      human|  4|        yes|      yes|\n",
      "|      koala|  1|        yes|     null|\n",
      "|caterpillar|  2|        yes|     null|\n",
      "+-----------+---+-----------+---------+\n",
      "\n",
      "None\n"
     ]
    }
   ],
   "source": [
    "left_join = eats_plants.join(eats_meat, [\"name\", \"id\"], how='left')\n",
    "print(\"Left Join Example\")\n",
    "print(left_join.show())"
   ]
  },
  {
   "cell_type": "code",
   "execution_count": 6,
   "metadata": {},
   "outputs": [
    {
     "name": "stdout",
     "output_type": "stream",
     "text": [
      "+-----------+---+-----------+---------+\n",
      "|       name| id|eats_plants|eats_meat|\n",
      "+-----------+---+-----------+---------+\n",
      "|       deer|  3|        yes|     null|\n",
      "|      koala|  1|        yes|     null|\n",
      "|caterpillar|  2|        yes|     null|\n",
      "+-----------+---+-----------+---------+\n",
      "\n"
     ]
    }
   ],
   "source": [
    "conditional_join = eats_plants.join(eats_meat, [\"name\",\"id\"], how='left').filter(eats_meat.eats_meat.isNull())\n",
    "conditional_join.show()"
   ]
  },
  {
   "cell_type": "code",
   "execution_count": 7,
   "metadata": {},
   "outputs": [
    {
     "name": "stdout",
     "output_type": "stream",
     "text": [
      "+-----+---+-----------+---------+\n",
      "| name| id|eats_plants|eats_meat|\n",
      "+-----+---+-----------+---------+\n",
      "|shark|  5|       null|      yes|\n",
      "|human|  4|        yes|      yes|\n",
      "|tiger|  7|       null|      yes|\n",
      "| lion|  6|       null|      yes|\n",
      "+-----+---+-----------+---------+\n",
      "\n",
      "None\n"
     ]
    }
   ],
   "source": [
    "right_join = eats_plants.join(eats_meat, [\"name\", \"id\"], how='right')\n",
    "print(right_join.show())"
   ]
  },
  {
   "cell_type": "code",
   "execution_count": 8,
   "metadata": {},
   "outputs": [
    {
     "name": "stdout",
     "output_type": "stream",
     "text": [
      "+-----------+---+-----------+---------+\n",
      "|       name| id|eats_plants|eats_meat|\n",
      "+-----------+---+-----------+---------+\n",
      "|       deer|  3|        yes|     null|\n",
      "|      shark|  5|       null|      yes|\n",
      "|      human|  4|        yes|      yes|\n",
      "|      tiger|  7|       null|      yes|\n",
      "|       lion|  6|       null|      yes|\n",
      "|      koala|  1|        yes|     null|\n",
      "|caterpillar|  2|        yes|     null|\n",
      "+-----------+---+-----------+---------+\n",
      "\n",
      "None\n"
     ]
    }
   ],
   "source": [
    "full_outer_join = eats_plants.join(eats_meat, [\"name\", \"id\"], how='full')\n",
    "print(full_outer_join.show())"
   ]
  },
  {
   "cell_type": "markdown",
   "metadata": {},
   "source": [
    "# Data Set\n",
    " **Source:** https://www.kaggle.com/Madgrades/uw-madison-courses"
   ]
  },
  {
   "cell_type": "code",
   "execution_count": 9,
   "metadata": {},
   "outputs": [],
   "source": [
    "import os\n",
    "path = \"/user/harishmohan/Datasets/uw-madison-courses/\"\n",
    "\n",
    "fs = spark._jvm.org.apache.hadoop.fs.FileSystem.get(spark._jsc.hadoopConfiguration())\n",
    "list_status = fs.listStatus(spark._jvm.org.apache.hadoop.fs.Path(path))\n",
    "result = [file.getPath().getName() for file in list_status]"
   ]
  },
  {
   "cell_type": "code",
   "execution_count": 10,
   "metadata": {},
   "outputs": [
    {
     "name": "stdout",
     "output_type": "stream",
     "text": [
      "Full list of dfs:\n",
      "['course_offerings', 'courses', 'grade_distributions', 'instructors', 'rooms', 'schedules', 'sections', 'subject_memberships', 'subjects', 'teachings']\n"
     ]
    }
   ],
   "source": [
    "df_list = []\n",
    "for filename in result:\n",
    "    if filename.endswith(\".csv\"):\n",
    "        filename_list = filename.split(\".\")\n",
    "        df_name = filename_list[0]\n",
    "        df = spark.read.csv(path+filename, inferSchema= True, header=True)\n",
    "        df.name = df_name\n",
    "        df_list.append(df_name)\n",
    "        exec(df_name + ' = df')\n",
    "\n",
    "print(\"Full list of dfs:\")\n",
    "print(df_list)"
   ]
  },
  {
   "cell_type": "code",
   "execution_count": 11,
   "metadata": {},
   "outputs": [
    {
     "name": "stdout",
     "output_type": "stream",
     "text": [
      "root\n",
      " |-- uuid: string (nullable = true)\n",
      " |-- course_uuid: string (nullable = true)\n",
      " |-- term_code: integer (nullable = true)\n",
      " |-- name: string (nullable = true)\n",
      "\n",
      "course_offerings None\n",
      "root\n",
      " |-- uuid: string (nullable = true)\n",
      " |-- name: string (nullable = true)\n",
      " |-- number: integer (nullable = true)\n",
      "\n",
      "courses None\n",
      "root\n",
      " |-- course_offering_uuid: string (nullable = true)\n",
      " |-- section_number: integer (nullable = true)\n",
      " |-- a_count: integer (nullable = true)\n",
      " |-- ab_count: integer (nullable = true)\n",
      " |-- b_count: integer (nullable = true)\n",
      " |-- bc_count: integer (nullable = true)\n",
      " |-- c_count: integer (nullable = true)\n",
      " |-- d_count: integer (nullable = true)\n",
      " |-- f_count: integer (nullable = true)\n",
      " |-- s_count: integer (nullable = true)\n",
      " |-- u_count: integer (nullable = true)\n",
      " |-- cr_count: integer (nullable = true)\n",
      " |-- n_count: integer (nullable = true)\n",
      " |-- p_count: integer (nullable = true)\n",
      " |-- i_count: integer (nullable = true)\n",
      " |-- nw_count: integer (nullable = true)\n",
      " |-- nr_count: integer (nullable = true)\n",
      " |-- other_count: integer (nullable = true)\n",
      "\n",
      "grade_distributions None\n",
      "root\n",
      " |-- id: integer (nullable = true)\n",
      " |-- name: string (nullable = true)\n",
      "\n",
      "instructors None\n",
      "root\n",
      " |-- uuid: string (nullable = true)\n",
      " |-- facility_code: string (nullable = true)\n",
      " |-- room_code: string (nullable = true)\n",
      "\n",
      "rooms None\n",
      "root\n",
      " |-- uuid: string (nullable = true)\n",
      " |-- start_time: integer (nullable = true)\n",
      " |-- end_time: integer (nullable = true)\n",
      " |-- mon: boolean (nullable = true)\n",
      " |-- tues: boolean (nullable = true)\n",
      " |-- wed: boolean (nullable = true)\n",
      " |-- thurs: boolean (nullable = true)\n",
      " |-- fri: boolean (nullable = true)\n",
      " |-- sat: boolean (nullable = true)\n",
      " |-- sun: boolean (nullable = true)\n",
      "\n",
      "schedules None\n",
      "root\n",
      " |-- uuid: string (nullable = true)\n",
      " |-- course_offering_uuid: string (nullable = true)\n",
      " |-- section_type: string (nullable = true)\n",
      " |-- number: integer (nullable = true)\n",
      " |-- room_uuid: string (nullable = true)\n",
      " |-- schedule_uuid: string (nullable = true)\n",
      "\n",
      "sections None\n",
      "root\n",
      " |-- subject_code: integer (nullable = true)\n",
      " |-- course_offering_uuid: string (nullable = true)\n",
      "\n",
      "subject_memeberships None\n",
      "root\n",
      " |-- code: string (nullable = true)\n",
      " |-- name: string (nullable = true)\n",
      " |-- abbreviation: string (nullable = true)\n",
      "\n",
      "subjects None\n",
      "root\n",
      " |-- instructor_id: integer (nullable = true)\n",
      " |-- section_uuid: string (nullable = true)\n",
      "\n",
      "teachings None\n"
     ]
    }
   ],
   "source": [
    "print('course_offerings',course_offerings.printSchema())\n",
    "print('courses' ,courses.printSchema())\n",
    "print('grade_distributions', grade_distributions.printSchema())\n",
    "print('instructors', instructors.printSchema())\n",
    "print('rooms', rooms.printSchema())\n",
    "print('schedules', schedules.printSchema())\n",
    "print('sections', sections.printSchema())\n",
    "print('subject_memeberships', subject_memberships.printSchema())\n",
    "print('subjects', subjects.printSchema())\n",
    "print('teachings', teachings.printSchema())"
   ]
  },
  {
   "cell_type": "code",
   "execution_count": 12,
   "metadata": {},
   "outputs": [
    {
     "data": {
      "text/html": [
       "<div>\n",
       "<style scoped>\n",
       "    .dataframe tbody tr th:only-of-type {\n",
       "        vertical-align: middle;\n",
       "    }\n",
       "\n",
       "    .dataframe tbody tr th {\n",
       "        vertical-align: top;\n",
       "    }\n",
       "\n",
       "    .dataframe thead th {\n",
       "        text-align: right;\n",
       "    }\n",
       "</style>\n",
       "<table border=\"1\" class=\"dataframe\">\n",
       "  <thead>\n",
       "    <tr style=\"text-align: right;\">\n",
       "      <th></th>\n",
       "      <th>uuid</th>\n",
       "      <th>course_uuid</th>\n",
       "      <th>term_code</th>\n",
       "      <th>name</th>\n",
       "    </tr>\n",
       "  </thead>\n",
       "  <tbody>\n",
       "    <tr>\n",
       "      <th>0</th>\n",
       "      <td>344b3ebe-da7e-314c-83ed-9425269695fd</td>\n",
       "      <td>a3e3e1c3-543d-3bb5-ae65-5f2aec4ad1de</td>\n",
       "      <td>1092</td>\n",
       "      <td>Cooperative Education Prog</td>\n",
       "    </tr>\n",
       "    <tr>\n",
       "      <th>1</th>\n",
       "      <td>f718e6cd-33f0-3c14-a9a6-834d9c3610a8</td>\n",
       "      <td>a3e3e1c3-543d-3bb5-ae65-5f2aec4ad1de</td>\n",
       "      <td>1082</td>\n",
       "      <td>Cooperative Education Prog</td>\n",
       "    </tr>\n",
       "    <tr>\n",
       "      <th>2</th>\n",
       "      <td>ea3b717c-d66b-30dc-8b37-964d9688295f</td>\n",
       "      <td>a3e3e1c3-543d-3bb5-ae65-5f2aec4ad1de</td>\n",
       "      <td>1172</td>\n",
       "      <td>Cooperative Education Prog</td>\n",
       "    </tr>\n",
       "    <tr>\n",
       "      <th>3</th>\n",
       "      <td>075da420-5f49-3dd0-93df-13e3c152e1b1</td>\n",
       "      <td>a3e3e1c3-543d-3bb5-ae65-5f2aec4ad1de</td>\n",
       "      <td>1114</td>\n",
       "      <td>Cooperative Education Prog</td>\n",
       "    </tr>\n",
       "  </tbody>\n",
       "</table>\n",
       "</div>"
      ],
      "text/plain": [
       "                                   uuid                           course_uuid  \\\n",
       "0  344b3ebe-da7e-314c-83ed-9425269695fd  a3e3e1c3-543d-3bb5-ae65-5f2aec4ad1de   \n",
       "1  f718e6cd-33f0-3c14-a9a6-834d9c3610a8  a3e3e1c3-543d-3bb5-ae65-5f2aec4ad1de   \n",
       "2  ea3b717c-d66b-30dc-8b37-964d9688295f  a3e3e1c3-543d-3bb5-ae65-5f2aec4ad1de   \n",
       "3  075da420-5f49-3dd0-93df-13e3c152e1b1  a3e3e1c3-543d-3bb5-ae65-5f2aec4ad1de   \n",
       "\n",
       "   term_code                        name  \n",
       "0       1092  Cooperative Education Prog  \n",
       "1       1082  Cooperative Education Prog  \n",
       "2       1172  Cooperative Education Prog  \n",
       "3       1114  Cooperative Education Prog  "
      ]
     },
     "execution_count": 12,
     "metadata": {},
     "output_type": "execute_result"
    }
   ],
   "source": [
    "course_offerings.limit(4).toPandas()"
   ]
  },
  {
   "cell_type": "code",
   "execution_count": 13,
   "metadata": {},
   "outputs": [
    {
     "name": "stdout",
     "output_type": "stream",
     "text": [
      "+-------+------------------+\n",
      "|id     |name              |\n",
      "+-------+------------------+\n",
      "|761703 |JOHN ARCHAMBAULT  |\n",
      "|3677061|STEPHANIE KANN    |\n",
      "|788586 |KATHY PREM        |\n",
      "|1600463|KRISTIN KLARKOWSKI|\n",
      "|693634 |DAVID BOHNHOFF    |\n",
      "+-------+------------------+\n",
      "only showing top 5 rows\n",
      "\n"
     ]
    }
   ],
   "source": [
    "instructors.show(5, False)"
   ]
  },
  {
   "cell_type": "code",
   "execution_count": 14,
   "metadata": {},
   "outputs": [
    {
     "name": "stdout",
     "output_type": "stream",
     "text": [
      "+-------------+--------------------+\n",
      "|instructor_id|        section_uuid|\n",
      "+-------------+--------------------+\n",
      "|       761703|45adf63c-48c9-365...|\n",
      "|       761703|c6280e23-5e43-385...|\n",
      "|       761703|9395dc21-15d1-3fa...|\n",
      "+-------------+--------------------+\n",
      "only showing top 3 rows\n",
      "\n"
     ]
    }
   ],
   "source": [
    "teachings.show(3)"
   ]
  },
  {
   "cell_type": "code",
   "execution_count": 15,
   "metadata": {},
   "outputs": [
    {
     "data": {
      "text/html": [
       "<div>\n",
       "<style scoped>\n",
       "    .dataframe tbody tr th:only-of-type {\n",
       "        vertical-align: middle;\n",
       "    }\n",
       "\n",
       "    .dataframe tbody tr th {\n",
       "        vertical-align: top;\n",
       "    }\n",
       "\n",
       "    .dataframe thead th {\n",
       "        text-align: right;\n",
       "    }\n",
       "</style>\n",
       "<table border=\"1\" class=\"dataframe\">\n",
       "  <thead>\n",
       "    <tr style=\"text-align: right;\">\n",
       "      <th></th>\n",
       "      <th>Instructor_id</th>\n",
       "      <th>name</th>\n",
       "      <th>section_uuid</th>\n",
       "    </tr>\n",
       "  </thead>\n",
       "  <tbody>\n",
       "    <tr>\n",
       "      <th>0</th>\n",
       "      <td>761703</td>\n",
       "      <td>JOHN ARCHAMBAULT</td>\n",
       "      <td>45adf63c-48c9-3659-8561-07556d2d4ddf</td>\n",
       "    </tr>\n",
       "    <tr>\n",
       "      <th>1</th>\n",
       "      <td>761703</td>\n",
       "      <td>JOHN ARCHAMBAULT</td>\n",
       "      <td>c6280e23-5e43-3859-893e-540d94993529</td>\n",
       "    </tr>\n",
       "    <tr>\n",
       "      <th>2</th>\n",
       "      <td>761703</td>\n",
       "      <td>JOHN ARCHAMBAULT</td>\n",
       "      <td>9395dc21-15d1-3fab-8d1f-6f3fe6114c48</td>\n",
       "    </tr>\n",
       "    <tr>\n",
       "      <th>3</th>\n",
       "      <td>3677061</td>\n",
       "      <td>STEPHANIE KANN</td>\n",
       "      <td>b99e440b-39db-350a-81eb-b6eb1bd8b0bc</td>\n",
       "    </tr>\n",
       "  </tbody>\n",
       "</table>\n",
       "</div>"
      ],
      "text/plain": [
       "   Instructor_id              name                          section_uuid\n",
       "0         761703  JOHN ARCHAMBAULT  45adf63c-48c9-3659-8561-07556d2d4ddf\n",
       "1         761703  JOHN ARCHAMBAULT  c6280e23-5e43-3859-893e-540d94993529\n",
       "2         761703  JOHN ARCHAMBAULT  9395dc21-15d1-3fab-8d1f-6f3fe6114c48\n",
       "3        3677061    STEPHANIE KANN  b99e440b-39db-350a-81eb-b6eb1bd8b0bc"
      ]
     },
     "execution_count": 15,
     "metadata": {},
     "output_type": "execute_result"
    }
   ],
   "source": [
    "step1 = teachings.join(instructors, teachings.instructor_id == instructors.id, how='left').select(['Instructor_id', 'name', 'section_uuid'])\n",
    "step1.limit(4).toPandas()"
   ]
  },
  {
   "cell_type": "code",
   "execution_count": 17,
   "metadata": {},
   "outputs": [
    {
     "data": {
      "text/html": [
       "<div>\n",
       "<style scoped>\n",
       "    .dataframe tbody tr th:only-of-type {\n",
       "        vertical-align: middle;\n",
       "    }\n",
       "\n",
       "    .dataframe tbody tr th {\n",
       "        vertical-align: top;\n",
       "    }\n",
       "\n",
       "    .dataframe thead th {\n",
       "        text-align: right;\n",
       "    }\n",
       "</style>\n",
       "<table border=\"1\" class=\"dataframe\">\n",
       "  <thead>\n",
       "    <tr style=\"text-align: right;\">\n",
       "      <th></th>\n",
       "      <th>name</th>\n",
       "      <th>course_offering_uuid</th>\n",
       "    </tr>\n",
       "  </thead>\n",
       "  <tbody>\n",
       "    <tr>\n",
       "      <th>0</th>\n",
       "      <td>THOMAS JAHNS</td>\n",
       "      <td>f850ab24-740c-311a-a669-804a3fea7b0b</td>\n",
       "    </tr>\n",
       "    <tr>\n",
       "      <th>1</th>\n",
       "      <td>JEAN-FRANCOIS HOUDE</td>\n",
       "      <td>7e213b2b-c58b-3014-b3d1-01c0f7ed46ef</td>\n",
       "    </tr>\n",
       "    <tr>\n",
       "      <th>2</th>\n",
       "      <td>CHRISTOPHER R TABER</td>\n",
       "      <td>3beb7bd7-4877-3c63-8afc-62f8b74e72fc</td>\n",
       "    </tr>\n",
       "    <tr>\n",
       "      <th>3</th>\n",
       "      <td>MARISA S OTEGUI</td>\n",
       "      <td>db253216-2e66-3267-86b2-7b9f5fe07223</td>\n",
       "    </tr>\n",
       "  </tbody>\n",
       "</table>\n",
       "</div>"
      ],
      "text/plain": [
       "                  name                  course_offering_uuid\n",
       "0         THOMAS JAHNS  f850ab24-740c-311a-a669-804a3fea7b0b\n",
       "1  JEAN-FRANCOIS HOUDE  7e213b2b-c58b-3014-b3d1-01c0f7ed46ef\n",
       "2  CHRISTOPHER R TABER  3beb7bd7-4877-3c63-8afc-62f8b74e72fc\n",
       "3      MARISA S OTEGUI  db253216-2e66-3267-86b2-7b9f5fe07223"
      ]
     },
     "execution_count": 17,
     "metadata": {},
     "output_type": "execute_result"
    }
   ],
   "source": [
    "step2 = step1.join(sections, step1.section_uuid == sections.uuid, how = 'left').select(['name', 'course_offering_uuid'])\n",
    "step2.limit(4).toPandas()"
   ]
  },
  {
   "cell_type": "code",
   "execution_count": 18,
   "metadata": {},
   "outputs": [
    {
     "data": {
      "text/html": [
       "<div>\n",
       "<style scoped>\n",
       "    .dataframe tbody tr th:only-of-type {\n",
       "        vertical-align: middle;\n",
       "    }\n",
       "\n",
       "    .dataframe tbody tr th {\n",
       "        vertical-align: top;\n",
       "    }\n",
       "\n",
       "    .dataframe thead th {\n",
       "        text-align: right;\n",
       "    }\n",
       "</style>\n",
       "<table border=\"1\" class=\"dataframe\">\n",
       "  <thead>\n",
       "    <tr style=\"text-align: right;\">\n",
       "      <th></th>\n",
       "      <th>instructor</th>\n",
       "      <th>name</th>\n",
       "      <th>course_offering_uuid</th>\n",
       "    </tr>\n",
       "  </thead>\n",
       "  <tbody>\n",
       "    <tr>\n",
       "      <th>0</th>\n",
       "      <td>THOMAS JAHNS</td>\n",
       "      <td>Master's Research or Thesis</td>\n",
       "      <td>f850ab24-740c-311a-a669-804a3fea7b0b</td>\n",
       "    </tr>\n",
       "    <tr>\n",
       "      <th>1</th>\n",
       "      <td>JEAN-FRANCOIS HOUDE</td>\n",
       "      <td>Wrkshp-Industrl Organizatn</td>\n",
       "      <td>7e213b2b-c58b-3014-b3d1-01c0f7ed46ef</td>\n",
       "    </tr>\n",
       "    <tr>\n",
       "      <th>2</th>\n",
       "      <td>CHRISTOPHER R TABER</td>\n",
       "      <td>Workshop - Public Economics</td>\n",
       "      <td>3beb7bd7-4877-3c63-8afc-62f8b74e72fc</td>\n",
       "    </tr>\n",
       "    <tr>\n",
       "      <th>3</th>\n",
       "      <td>MARISA S OTEGUI</td>\n",
       "      <td>Plant Cell Biology</td>\n",
       "      <td>db253216-2e66-3267-86b2-7b9f5fe07223</td>\n",
       "    </tr>\n",
       "  </tbody>\n",
       "</table>\n",
       "</div>"
      ],
      "text/plain": [
       "            instructor                         name  \\\n",
       "0         THOMAS JAHNS  Master's Research or Thesis   \n",
       "1  JEAN-FRANCOIS HOUDE   Wrkshp-Industrl Organizatn   \n",
       "2  CHRISTOPHER R TABER  Workshop - Public Economics   \n",
       "3      MARISA S OTEGUI           Plant Cell Biology   \n",
       "\n",
       "                   course_offering_uuid  \n",
       "0  f850ab24-740c-311a-a669-804a3fea7b0b  \n",
       "1  7e213b2b-c58b-3014-b3d1-01c0f7ed46ef  \n",
       "2  3beb7bd7-4877-3c63-8afc-62f8b74e72fc  \n",
       "3  db253216-2e66-3267-86b2-7b9f5fe07223  "
      ]
     },
     "execution_count": 18,
     "metadata": {},
     "output_type": "execute_result"
    }
   ],
   "source": [
    "step3 = step2.withColumnRenamed('name', 'instructor').join(course_offerings, step2.course_offering_uuid == course_offerings.uuid, how ='inner').select(['instructor', 'name', 'course_offering_uuid'])\n",
    "step3.limit(4).toPandas()"
   ]
  },
  {
   "cell_type": "code",
   "execution_count": 25,
   "metadata": {},
   "outputs": [
    {
     "data": {
      "text/html": [
       "<div>\n",
       "<style scoped>\n",
       "    .dataframe tbody tr th:only-of-type {\n",
       "        vertical-align: middle;\n",
       "    }\n",
       "\n",
       "    .dataframe tbody tr th {\n",
       "        vertical-align: top;\n",
       "    }\n",
       "\n",
       "    .dataframe thead th {\n",
       "        text-align: right;\n",
       "    }\n",
       "</style>\n",
       "<table border=\"1\" class=\"dataframe\">\n",
       "  <thead>\n",
       "    <tr style=\"text-align: right;\">\n",
       "      <th></th>\n",
       "      <th>uuid</th>\n",
       "      <th>facility_code</th>\n",
       "      <th>course_offering_uuid</th>\n",
       "      <th>number</th>\n",
       "    </tr>\n",
       "  </thead>\n",
       "  <tbody>\n",
       "    <tr>\n",
       "      <th>0</th>\n",
       "      <td>0feb8e9a-88b8-3d80-a13d-72c0c2fa9939</td>\n",
       "      <td>0140</td>\n",
       "      <td>611e5499-724c-3464-82f3-1a5bf29dd96c</td>\n",
       "      <td>307</td>\n",
       "    </tr>\n",
       "    <tr>\n",
       "      <th>1</th>\n",
       "      <td>0feb8e9a-88b8-3d80-a13d-72c0c2fa9939</td>\n",
       "      <td>0140</td>\n",
       "      <td>43688423-905c-3455-bf40-a58adce537f7</td>\n",
       "      <td>3</td>\n",
       "    </tr>\n",
       "    <tr>\n",
       "      <th>2</th>\n",
       "      <td>0feb8e9a-88b8-3d80-a13d-72c0c2fa9939</td>\n",
       "      <td>0140</td>\n",
       "      <td>43688423-905c-3455-bf40-a58adce537f7</td>\n",
       "      <td>3</td>\n",
       "    </tr>\n",
       "    <tr>\n",
       "      <th>3</th>\n",
       "      <td>0feb8e9a-88b8-3d80-a13d-72c0c2fa9939</td>\n",
       "      <td>0140</td>\n",
       "      <td>871476fd-340f-303c-a7c6-44ca6ef6b84d</td>\n",
       "      <td>311</td>\n",
       "    </tr>\n",
       "  </tbody>\n",
       "</table>\n",
       "</div>"
      ],
      "text/plain": [
       "                                   uuid facility_code  \\\n",
       "0  0feb8e9a-88b8-3d80-a13d-72c0c2fa9939          0140   \n",
       "1  0feb8e9a-88b8-3d80-a13d-72c0c2fa9939          0140   \n",
       "2  0feb8e9a-88b8-3d80-a13d-72c0c2fa9939          0140   \n",
       "3  0feb8e9a-88b8-3d80-a13d-72c0c2fa9939          0140   \n",
       "\n",
       "                   course_offering_uuid  number  \n",
       "0  611e5499-724c-3464-82f3-1a5bf29dd96c     307  \n",
       "1  43688423-905c-3455-bf40-a58adce537f7       3  \n",
       "2  43688423-905c-3455-bf40-a58adce537f7       3  \n",
       "3  871476fd-340f-303c-a7c6-44ca6ef6b84d     311  "
      ]
     },
     "execution_count": 25,
     "metadata": {},
     "output_type": "execute_result"
    }
   ],
   "source": [
    "step1 = rooms.join(sections, rooms.uuid == sections.room_uuid, how='left').select([rooms.uuid, rooms.facility_code, sections.course_offering_uuid,'number'])\n",
    "step1.limit(4).toPandas()"
   ]
  },
  {
   "cell_type": "code",
   "execution_count": 29,
   "metadata": {},
   "outputs": [
    {
     "data": {
      "text/html": [
       "<div>\n",
       "<style scoped>\n",
       "    .dataframe tbody tr th:only-of-type {\n",
       "        vertical-align: middle;\n",
       "    }\n",
       "\n",
       "    .dataframe tbody tr th {\n",
       "        vertical-align: top;\n",
       "    }\n",
       "\n",
       "    .dataframe thead th {\n",
       "        text-align: right;\n",
       "    }\n",
       "</style>\n",
       "<table border=\"1\" class=\"dataframe\">\n",
       "  <thead>\n",
       "    <tr style=\"text-align: right;\">\n",
       "      <th></th>\n",
       "      <th>uuid</th>\n",
       "      <th>facility_code</th>\n",
       "      <th>number</th>\n",
       "      <th>term_code</th>\n",
       "      <th>name</th>\n",
       "    </tr>\n",
       "  </thead>\n",
       "  <tbody>\n",
       "    <tr>\n",
       "      <th>0</th>\n",
       "      <td>0feb8e9a-88b8-3d80-a13d-72c0c2fa9939</td>\n",
       "      <td>0140</td>\n",
       "      <td>307</td>\n",
       "      <td>1182</td>\n",
       "      <td>International Business</td>\n",
       "    </tr>\n",
       "    <tr>\n",
       "      <th>1</th>\n",
       "      <td>0feb8e9a-88b8-3d80-a13d-72c0c2fa9939</td>\n",
       "      <td>0140</td>\n",
       "      <td>3</td>\n",
       "      <td>1174</td>\n",
       "      <td>Intro Managerial Accounting</td>\n",
       "    </tr>\n",
       "    <tr>\n",
       "      <th>2</th>\n",
       "      <td>0feb8e9a-88b8-3d80-a13d-72c0c2fa9939</td>\n",
       "      <td>0140</td>\n",
       "      <td>3</td>\n",
       "      <td>1174</td>\n",
       "      <td>Intro Managerial Accounting</td>\n",
       "    </tr>\n",
       "    <tr>\n",
       "      <th>3</th>\n",
       "      <td>0feb8e9a-88b8-3d80-a13d-72c0c2fa9939</td>\n",
       "      <td>0140</td>\n",
       "      <td>311</td>\n",
       "      <td>1174</td>\n",
       "      <td>Business Law</td>\n",
       "    </tr>\n",
       "  </tbody>\n",
       "</table>\n",
       "</div>"
      ],
      "text/plain": [
       "                                   uuid facility_code  number  term_code  \\\n",
       "0  0feb8e9a-88b8-3d80-a13d-72c0c2fa9939          0140     307       1182   \n",
       "1  0feb8e9a-88b8-3d80-a13d-72c0c2fa9939          0140       3       1174   \n",
       "2  0feb8e9a-88b8-3d80-a13d-72c0c2fa9939          0140       3       1174   \n",
       "3  0feb8e9a-88b8-3d80-a13d-72c0c2fa9939          0140     311       1174   \n",
       "\n",
       "                          name  \n",
       "0       International Business  \n",
       "1  Intro Managerial Accounting  \n",
       "2  Intro Managerial Accounting  \n",
       "3                 Business Law  "
      ]
     },
     "execution_count": 29,
     "metadata": {},
     "output_type": "execute_result"
    }
   ],
   "source": [
    "step2 = step1.join(course_offerings, step1.course_offering_uuid == course_offerings.uuid, how='left').select([rooms.uuid, rooms.facility_code, 'number', 'term_code', 'name'])\n",
    "step2.limit(4).toPandas()"
   ]
  },
  {
   "cell_type": "code",
   "execution_count": 30,
   "metadata": {},
   "outputs": [
    {
     "data": {
      "text/html": [
       "<div>\n",
       "<style scoped>\n",
       "    .dataframe tbody tr th:only-of-type {\n",
       "        vertical-align: middle;\n",
       "    }\n",
       "\n",
       "    .dataframe tbody tr th {\n",
       "        vertical-align: top;\n",
       "    }\n",
       "\n",
       "    .dataframe thead th {\n",
       "        text-align: right;\n",
       "    }\n",
       "</style>\n",
       "<table border=\"1\" class=\"dataframe\">\n",
       "  <thead>\n",
       "    <tr style=\"text-align: right;\">\n",
       "      <th></th>\n",
       "      <th>uuid</th>\n",
       "      <th>facility_code</th>\n",
       "      <th>number</th>\n",
       "      <th>term_code</th>\n",
       "      <th>name</th>\n",
       "    </tr>\n",
       "  </thead>\n",
       "  <tbody>\n",
       "    <tr>\n",
       "      <th>0</th>\n",
       "      <td>3c570ec9-1a27-3902-a16f-d1676890e63b</td>\n",
       "      <td>0469</td>\n",
       "      <td>337</td>\n",
       "      <td>1082</td>\n",
       "      <td>Introduction to Philosophy</td>\n",
       "    </tr>\n",
       "    <tr>\n",
       "      <th>1</th>\n",
       "      <td>3c570ec9-1a27-3902-a16f-d1676890e63b</td>\n",
       "      <td>0469</td>\n",
       "      <td>352</td>\n",
       "      <td>1082</td>\n",
       "      <td>Introduction to Philosophy</td>\n",
       "    </tr>\n",
       "    <tr>\n",
       "      <th>2</th>\n",
       "      <td>3c570ec9-1a27-3902-a16f-d1676890e63b</td>\n",
       "      <td>0469</td>\n",
       "      <td>308</td>\n",
       "      <td>1102</td>\n",
       "      <td>Introduction to Philosophy</td>\n",
       "    </tr>\n",
       "    <tr>\n",
       "      <th>3</th>\n",
       "      <td>3c570ec9-1a27-3902-a16f-d1676890e63b</td>\n",
       "      <td>0469</td>\n",
       "      <td>307</td>\n",
       "      <td>1102</td>\n",
       "      <td>Introduction to Philosophy</td>\n",
       "    </tr>\n",
       "  </tbody>\n",
       "</table>\n",
       "</div>"
      ],
      "text/plain": [
       "                                   uuid facility_code  number  term_code  \\\n",
       "0  3c570ec9-1a27-3902-a16f-d1676890e63b          0469     337       1082   \n",
       "1  3c570ec9-1a27-3902-a16f-d1676890e63b          0469     352       1082   \n",
       "2  3c570ec9-1a27-3902-a16f-d1676890e63b          0469     308       1102   \n",
       "3  3c570ec9-1a27-3902-a16f-d1676890e63b          0469     307       1102   \n",
       "\n",
       "                         name  \n",
       "0  Introduction to Philosophy  \n",
       "1  Introduction to Philosophy  \n",
       "2  Introduction to Philosophy  \n",
       "3  Introduction to Philosophy  "
      ]
     },
     "execution_count": 30,
     "metadata": {},
     "output_type": "execute_result"
    }
   ],
   "source": [
    "step3 = step2.filter(step2.facility_code == \"0469\")\n",
    "step3.limit(4).toPandas()"
   ]
  },
  {
   "cell_type": "code",
   "execution_count": 33,
   "metadata": {},
   "outputs": [
    {
     "data": {
      "text/html": [
       "<div>\n",
       "<style scoped>\n",
       "    .dataframe tbody tr th:only-of-type {\n",
       "        vertical-align: middle;\n",
       "    }\n",
       "\n",
       "    .dataframe tbody tr th {\n",
       "        vertical-align: top;\n",
       "    }\n",
       "\n",
       "    .dataframe thead th {\n",
       "        text-align: right;\n",
       "    }\n",
       "</style>\n",
       "<table border=\"1\" class=\"dataframe\">\n",
       "  <thead>\n",
       "    <tr style=\"text-align: right;\">\n",
       "      <th></th>\n",
       "      <th>subject_name</th>\n",
       "      <th>course_offering_uuid</th>\n",
       "    </tr>\n",
       "  </thead>\n",
       "  <tbody>\n",
       "    <tr>\n",
       "      <th>0</th>\n",
       "      <td>Chemical and Biological Engineering</td>\n",
       "      <td>344b3ebe-da7e-314c-83ed-9425269695fd</td>\n",
       "    </tr>\n",
       "    <tr>\n",
       "      <th>1</th>\n",
       "      <td>Electrical and Computer Engineering</td>\n",
       "      <td>344b3ebe-da7e-314c-83ed-9425269695fd</td>\n",
       "    </tr>\n",
       "    <tr>\n",
       "      <th>2</th>\n",
       "      <td>Engineering Mechanics and Astronautics</td>\n",
       "      <td>344b3ebe-da7e-314c-83ed-9425269695fd</td>\n",
       "    </tr>\n",
       "    <tr>\n",
       "      <th>3</th>\n",
       "      <td>Mechanical Engineering</td>\n",
       "      <td>344b3ebe-da7e-314c-83ed-9425269695fd</td>\n",
       "    </tr>\n",
       "  </tbody>\n",
       "</table>\n",
       "</div>"
      ],
      "text/plain": [
       "                             subject_name  \\\n",
       "0     Chemical and Biological Engineering   \n",
       "1     Electrical and Computer Engineering   \n",
       "2  Engineering Mechanics and Astronautics   \n",
       "3                  Mechanical Engineering   \n",
       "\n",
       "                   course_offering_uuid  \n",
       "0  344b3ebe-da7e-314c-83ed-9425269695fd  \n",
       "1  344b3ebe-da7e-314c-83ed-9425269695fd  \n",
       "2  344b3ebe-da7e-314c-83ed-9425269695fd  \n",
       "3  344b3ebe-da7e-314c-83ed-9425269695fd  "
      ]
     },
     "execution_count": 33,
     "metadata": {},
     "output_type": "execute_result"
    }
   ],
   "source": [
    "step1 = subjects.join(subject_memberships, subjects.code == subject_memberships.subject_code, how='inner').select(['name', 'course_offering_uuid']).withColumnRenamed('name', 'subject_name')\n",
    "step1.limit(4).toPandas()"
   ]
  },
  {
   "cell_type": "code",
   "execution_count": 37,
   "metadata": {},
   "outputs": [
    {
     "data": {
      "text/html": [
       "<div>\n",
       "<style scoped>\n",
       "    .dataframe tbody tr th:only-of-type {\n",
       "        vertical-align: middle;\n",
       "    }\n",
       "\n",
       "    .dataframe tbody tr th {\n",
       "        vertical-align: top;\n",
       "    }\n",
       "\n",
       "    .dataframe thead th {\n",
       "        text-align: right;\n",
       "    }\n",
       "</style>\n",
       "<table border=\"1\" class=\"dataframe\">\n",
       "  <thead>\n",
       "    <tr style=\"text-align: right;\">\n",
       "      <th></th>\n",
       "      <th>subject_name</th>\n",
       "      <th>room_uuid</th>\n",
       "    </tr>\n",
       "  </thead>\n",
       "  <tbody>\n",
       "    <tr>\n",
       "      <th>0</th>\n",
       "      <td>Communication Arts</td>\n",
       "      <td>dd6118e0-7221-3b81-9b29-aad61f0ede54</td>\n",
       "    </tr>\n",
       "    <tr>\n",
       "      <th>1</th>\n",
       "      <td>Communication Arts</td>\n",
       "      <td>4e9c55b8-7c02-36c3-b907-3e832ea285e7</td>\n",
       "    </tr>\n",
       "    <tr>\n",
       "      <th>2</th>\n",
       "      <td>Communication Arts</td>\n",
       "      <td>4948c250-c6cf-3272-a497-f90962f3ba67</td>\n",
       "    </tr>\n",
       "    <tr>\n",
       "      <th>3</th>\n",
       "      <td>Communication Arts</td>\n",
       "      <td>698555af-8ec3-3b85-8e67-bd7fc53aba80</td>\n",
       "    </tr>\n",
       "  </tbody>\n",
       "</table>\n",
       "</div>"
      ],
      "text/plain": [
       "         subject_name                             room_uuid\n",
       "0  Communication Arts  dd6118e0-7221-3b81-9b29-aad61f0ede54\n",
       "1  Communication Arts  4e9c55b8-7c02-36c3-b907-3e832ea285e7\n",
       "2  Communication Arts  4948c250-c6cf-3272-a497-f90962f3ba67\n",
       "3  Communication Arts  698555af-8ec3-3b85-8e67-bd7fc53aba80"
      ]
     },
     "execution_count": 37,
     "metadata": {},
     "output_type": "execute_result"
    }
   ],
   "source": [
    "step2 = step1.join(sections, step1.course_offering_uuid == sections.course_offering_uuid, how='left').select(['subject_name', 'room_uuid'])\n",
    "step2.limit(4).toPandas()"
   ]
  },
  {
   "cell_type": "code",
   "execution_count": 38,
   "metadata": {},
   "outputs": [
    {
     "data": {
      "text/html": [
       "<div>\n",
       "<style scoped>\n",
       "    .dataframe tbody tr th:only-of-type {\n",
       "        vertical-align: middle;\n",
       "    }\n",
       "\n",
       "    .dataframe tbody tr th {\n",
       "        vertical-align: top;\n",
       "    }\n",
       "\n",
       "    .dataframe thead th {\n",
       "        text-align: right;\n",
       "    }\n",
       "</style>\n",
       "<table border=\"1\" class=\"dataframe\">\n",
       "  <thead>\n",
       "    <tr style=\"text-align: right;\">\n",
       "      <th></th>\n",
       "      <th>subject_name</th>\n",
       "      <th>facility_code</th>\n",
       "      <th>room_code</th>\n",
       "    </tr>\n",
       "  </thead>\n",
       "  <tbody>\n",
       "    <tr>\n",
       "      <th>0</th>\n",
       "      <td>Communication Arts</td>\n",
       "      <td>0140</td>\n",
       "      <td>1070</td>\n",
       "    </tr>\n",
       "    <tr>\n",
       "      <th>1</th>\n",
       "      <td>Communication Arts</td>\n",
       "      <td>0545</td>\n",
       "      <td>4028</td>\n",
       "    </tr>\n",
       "    <tr>\n",
       "      <th>2</th>\n",
       "      <td>Communication Arts</td>\n",
       "      <td>0545</td>\n",
       "      <td>4008</td>\n",
       "    </tr>\n",
       "    <tr>\n",
       "      <th>3</th>\n",
       "      <td>Communication Arts</td>\n",
       "      <td>0469</td>\n",
       "      <td>2241</td>\n",
       "    </tr>\n",
       "  </tbody>\n",
       "</table>\n",
       "</div>"
      ],
      "text/plain": [
       "         subject_name facility_code room_code\n",
       "0  Communication Arts          0140      1070\n",
       "1  Communication Arts          0545      4028\n",
       "2  Communication Arts          0545      4008\n",
       "3  Communication Arts          0469      2241"
      ]
     },
     "execution_count": 38,
     "metadata": {},
     "output_type": "execute_result"
    }
   ],
   "source": [
    "step3 = step2.join(rooms, step2.room_uuid == rooms.uuid, how='left').filter('facility_code IN(\"0140\", \"0545\", \"0469\", \"0031\")').select(['subject_name', 'facility_code', 'room_code'])\n",
    "step3.limit(4).toPandas()"
   ]
  },
  {
   "cell_type": "code",
   "execution_count": 39,
   "metadata": {},
   "outputs": [
    {
     "name": "stdout",
     "output_type": "stream",
     "text": [
      "+-------------+------------------------------------------------+-----+\n",
      "|facility_code|subject_name                                    |count|\n",
      "+-------------+------------------------------------------------+-----+\n",
      "|0031         |Statistics                                      |6    |\n",
      "|0031         |Interdisciplinary Courses (Engineering)         |1    |\n",
      "|0031         |Philosophy                                      |1    |\n",
      "|0031         |Electrical and Computer Engineering             |2    |\n",
      "|0031         |Interdisciplinary Courses (L&S)                 |1    |\n",
      "|0031         |History                                         |1    |\n",
      "|0031         |History of Science                              |1    |\n",
      "|0031         |Biochemistry                                    |2    |\n",
      "|0031         |Environmental Studies - Gaylord Nelson Institute|1    |\n",
      "|0031         |Communication Sciences and Disorders            |5    |\n",
      "+-------------+------------------------------------------------+-----+\n",
      "only showing top 10 rows\n",
      "\n"
     ]
    }
   ],
   "source": [
    "step3.groupBy('facility_code', 'subject_name').count().orderBy(\"facility_code\").show(10, False)"
   ]
  },
  {
   "cell_type": "code",
   "execution_count": 40,
   "metadata": {},
   "outputs": [
    {
     "name": "stdout",
     "output_type": "stream",
     "text": [
      "+---------------------------------+----+----+----+----+\n",
      "|subject_name                     |0031|0140|0469|0545|\n",
      "+---------------------------------+----+----+----+----+\n",
      "|Asian American Studies           |null|6   |245 |24  |\n",
      "|Religious Studies                |null|32  |282 |43  |\n",
      "|HEBREW                           |null|7   |4   |null|\n",
      "|Botany                           |null|4   |24  |2   |\n",
      "|Urban and Regional Planning      |null|208 |17  |6   |\n",
      "|Nutritional Sciences             |6   |null|null|28  |\n",
      "|Kinesiology                      |1549|null|null|null|\n",
      "|Art Education (Department of Art)|null|null|145 |null|\n",
      "|Philosophy                       |1   |80  |1296|73  |\n",
      "|Microbiology                     |null|null|1   |null|\n",
      "+---------------------------------+----+----+----+----+\n",
      "only showing top 10 rows\n",
      "\n"
     ]
    }
   ],
   "source": [
    "step3.groupBy(\"subject_name\").pivot(\"facility_code\").count().show(10, False)"
   ]
  },
  {
   "cell_type": "code",
   "execution_count": 43,
   "metadata": {},
   "outputs": [
    {
     "data": {
      "text/html": [
       "<div>\n",
       "<style scoped>\n",
       "    .dataframe tbody tr th:only-of-type {\n",
       "        vertical-align: middle;\n",
       "    }\n",
       "\n",
       "    .dataframe tbody tr th {\n",
       "        vertical-align: top;\n",
       "    }\n",
       "\n",
       "    .dataframe thead th {\n",
       "        text-align: right;\n",
       "    }\n",
       "</style>\n",
       "<table border=\"1\" class=\"dataframe\">\n",
       "  <thead>\n",
       "    <tr style=\"text-align: right;\">\n",
       "      <th></th>\n",
       "      <th>course_offering_uuid</th>\n",
       "      <th>section_number</th>\n",
       "      <th>a_count</th>\n",
       "      <th>ab_count</th>\n",
       "      <th>b_count</th>\n",
       "      <th>bc_count</th>\n",
       "      <th>c_count</th>\n",
       "      <th>d_count</th>\n",
       "      <th>f_count</th>\n",
       "      <th>s_count</th>\n",
       "      <th>u_count</th>\n",
       "      <th>cr_count</th>\n",
       "      <th>n_count</th>\n",
       "      <th>p_count</th>\n",
       "      <th>i_count</th>\n",
       "      <th>nw_count</th>\n",
       "      <th>nr_count</th>\n",
       "      <th>other_count</th>\n",
       "    </tr>\n",
       "  </thead>\n",
       "  <tbody>\n",
       "    <tr>\n",
       "      <th>0</th>\n",
       "      <td>344b3ebe-da7e-314c-83ed-9425269695fd</td>\n",
       "      <td>1</td>\n",
       "      <td>105</td>\n",
       "      <td>0</td>\n",
       "      <td>0</td>\n",
       "      <td>0</td>\n",
       "      <td>0</td>\n",
       "      <td>0</td>\n",
       "      <td>0</td>\n",
       "      <td>0</td>\n",
       "      <td>0</td>\n",
       "      <td>0</td>\n",
       "      <td>0</td>\n",
       "      <td>0</td>\n",
       "      <td>0</td>\n",
       "      <td>0</td>\n",
       "      <td>0</td>\n",
       "      <td>0</td>\n",
       "    </tr>\n",
       "    <tr>\n",
       "      <th>1</th>\n",
       "      <td>f718e6cd-33f0-3c14-a9a6-834d9c3610a8</td>\n",
       "      <td>1</td>\n",
       "      <td>158</td>\n",
       "      <td>0</td>\n",
       "      <td>0</td>\n",
       "      <td>0</td>\n",
       "      <td>0</td>\n",
       "      <td>0</td>\n",
       "      <td>0</td>\n",
       "      <td>0</td>\n",
       "      <td>0</td>\n",
       "      <td>0</td>\n",
       "      <td>0</td>\n",
       "      <td>0</td>\n",
       "      <td>1</td>\n",
       "      <td>0</td>\n",
       "      <td>0</td>\n",
       "      <td>0</td>\n",
       "    </tr>\n",
       "    <tr>\n",
       "      <th>2</th>\n",
       "      <td>ea3b717c-d66b-30dc-8b37-964d9688295f</td>\n",
       "      <td>1</td>\n",
       "      <td>139</td>\n",
       "      <td>12</td>\n",
       "      <td>2</td>\n",
       "      <td>0</td>\n",
       "      <td>3</td>\n",
       "      <td>0</td>\n",
       "      <td>0</td>\n",
       "      <td>0</td>\n",
       "      <td>0</td>\n",
       "      <td>0</td>\n",
       "      <td>0</td>\n",
       "      <td>0</td>\n",
       "      <td>0</td>\n",
       "      <td>0</td>\n",
       "      <td>0</td>\n",
       "      <td>0</td>\n",
       "    </tr>\n",
       "    <tr>\n",
       "      <th>3</th>\n",
       "      <td>075da420-5f49-3dd0-93df-13e3c152e1b1</td>\n",
       "      <td>1</td>\n",
       "      <td>87</td>\n",
       "      <td>0</td>\n",
       "      <td>0</td>\n",
       "      <td>0</td>\n",
       "      <td>0</td>\n",
       "      <td>0</td>\n",
       "      <td>0</td>\n",
       "      <td>0</td>\n",
       "      <td>0</td>\n",
       "      <td>0</td>\n",
       "      <td>0</td>\n",
       "      <td>0</td>\n",
       "      <td>1</td>\n",
       "      <td>0</td>\n",
       "      <td>0</td>\n",
       "      <td>0</td>\n",
       "    </tr>\n",
       "  </tbody>\n",
       "</table>\n",
       "</div>"
      ],
      "text/plain": [
       "                   course_offering_uuid  section_number  a_count  ab_count  \\\n",
       "0  344b3ebe-da7e-314c-83ed-9425269695fd               1      105         0   \n",
       "1  f718e6cd-33f0-3c14-a9a6-834d9c3610a8               1      158         0   \n",
       "2  ea3b717c-d66b-30dc-8b37-964d9688295f               1      139        12   \n",
       "3  075da420-5f49-3dd0-93df-13e3c152e1b1               1       87         0   \n",
       "\n",
       "   b_count  bc_count  c_count  d_count  f_count  s_count  u_count  cr_count  \\\n",
       "0        0         0        0        0        0        0        0         0   \n",
       "1        0         0        0        0        0        0        0         0   \n",
       "2        2         0        3        0        0        0        0         0   \n",
       "3        0         0        0        0        0        0        0         0   \n",
       "\n",
       "   n_count  p_count  i_count  nw_count  nr_count  other_count  \n",
       "0        0        0        0         0         0            0  \n",
       "1        0        0        1         0         0            0  \n",
       "2        0        0        0         0         0            0  \n",
       "3        0        0        1         0         0            0  "
      ]
     },
     "execution_count": 43,
     "metadata": {},
     "output_type": "execute_result"
    }
   ],
   "source": [
    "grade_distributions.limit(4).toPandas()"
   ]
  },
  {
   "cell_type": "code",
   "execution_count": 60,
   "metadata": {},
   "outputs": [
    {
     "data": {
      "text/html": [
       "<div>\n",
       "<style scoped>\n",
       "    .dataframe tbody tr th:only-of-type {\n",
       "        vertical-align: middle;\n",
       "    }\n",
       "\n",
       "    .dataframe tbody tr th {\n",
       "        vertical-align: top;\n",
       "    }\n",
       "\n",
       "    .dataframe thead th {\n",
       "        text-align: right;\n",
       "    }\n",
       "</style>\n",
       "<table border=\"1\" class=\"dataframe\">\n",
       "  <thead>\n",
       "    <tr style=\"text-align: right;\">\n",
       "      <th></th>\n",
       "      <th>uuid</th>\n",
       "      <th>course_uuid</th>\n",
       "      <th>term_code</th>\n",
       "      <th>name</th>\n",
       "    </tr>\n",
       "  </thead>\n",
       "  <tbody>\n",
       "    <tr>\n",
       "      <th>0</th>\n",
       "      <td>344b3ebe-da7e-314c-83ed-9425269695fd</td>\n",
       "      <td>a3e3e1c3-543d-3bb5-ae65-5f2aec4ad1de</td>\n",
       "      <td>1092</td>\n",
       "      <td>Cooperative Education Prog</td>\n",
       "    </tr>\n",
       "    <tr>\n",
       "      <th>1</th>\n",
       "      <td>f718e6cd-33f0-3c14-a9a6-834d9c3610a8</td>\n",
       "      <td>a3e3e1c3-543d-3bb5-ae65-5f2aec4ad1de</td>\n",
       "      <td>1082</td>\n",
       "      <td>Cooperative Education Prog</td>\n",
       "    </tr>\n",
       "    <tr>\n",
       "      <th>2</th>\n",
       "      <td>ea3b717c-d66b-30dc-8b37-964d9688295f</td>\n",
       "      <td>a3e3e1c3-543d-3bb5-ae65-5f2aec4ad1de</td>\n",
       "      <td>1172</td>\n",
       "      <td>Cooperative Education Prog</td>\n",
       "    </tr>\n",
       "    <tr>\n",
       "      <th>3</th>\n",
       "      <td>075da420-5f49-3dd0-93df-13e3c152e1b1</td>\n",
       "      <td>a3e3e1c3-543d-3bb5-ae65-5f2aec4ad1de</td>\n",
       "      <td>1114</td>\n",
       "      <td>Cooperative Education Prog</td>\n",
       "    </tr>\n",
       "  </tbody>\n",
       "</table>\n",
       "</div>"
      ],
      "text/plain": [
       "                                   uuid                           course_uuid  \\\n",
       "0  344b3ebe-da7e-314c-83ed-9425269695fd  a3e3e1c3-543d-3bb5-ae65-5f2aec4ad1de   \n",
       "1  f718e6cd-33f0-3c14-a9a6-834d9c3610a8  a3e3e1c3-543d-3bb5-ae65-5f2aec4ad1de   \n",
       "2  ea3b717c-d66b-30dc-8b37-964d9688295f  a3e3e1c3-543d-3bb5-ae65-5f2aec4ad1de   \n",
       "3  075da420-5f49-3dd0-93df-13e3c152e1b1  a3e3e1c3-543d-3bb5-ae65-5f2aec4ad1de   \n",
       "\n",
       "   term_code                        name  \n",
       "0       1092  Cooperative Education Prog  \n",
       "1       1082  Cooperative Education Prog  \n",
       "2       1172  Cooperative Education Prog  \n",
       "3       1114  Cooperative Education Prog  "
      ]
     },
     "execution_count": 60,
     "metadata": {},
     "output_type": "execute_result"
    }
   ],
   "source": [
    "course_offerings.limit(4).toPandas()"
   ]
  },
  {
   "cell_type": "code",
   "execution_count": 62,
   "metadata": {},
   "outputs": [
    {
     "data": {
      "text/html": [
       "<div>\n",
       "<style scoped>\n",
       "    .dataframe tbody tr th:only-of-type {\n",
       "        vertical-align: middle;\n",
       "    }\n",
       "\n",
       "    .dataframe tbody tr th {\n",
       "        vertical-align: top;\n",
       "    }\n",
       "\n",
       "    .dataframe thead th {\n",
       "        text-align: right;\n",
       "    }\n",
       "</style>\n",
       "<table border=\"1\" class=\"dataframe\">\n",
       "  <thead>\n",
       "    <tr style=\"text-align: right;\">\n",
       "      <th></th>\n",
       "      <th>course_offering_uuid</th>\n",
       "      <th>sum(f_count)</th>\n",
       "    </tr>\n",
       "  </thead>\n",
       "  <tbody>\n",
       "    <tr>\n",
       "      <th>0</th>\n",
       "      <td>c939dd5e-43ba-3266-8f74-573f629de75b</td>\n",
       "      <td>0</td>\n",
       "    </tr>\n",
       "    <tr>\n",
       "      <th>1</th>\n",
       "      <td>75fdf27b-0e52-3544-96eb-d594a5ad969f</td>\n",
       "      <td>0</td>\n",
       "    </tr>\n",
       "    <tr>\n",
       "      <th>2</th>\n",
       "      <td>cfeba94d-8e0e-320b-a904-ea2c2a31c000</td>\n",
       "      <td>7</td>\n",
       "    </tr>\n",
       "    <tr>\n",
       "      <th>3</th>\n",
       "      <td>ceabe145-78e5-33c2-9b68-3a1eea9c2864</td>\n",
       "      <td>4</td>\n",
       "    </tr>\n",
       "  </tbody>\n",
       "</table>\n",
       "</div>"
      ],
      "text/plain": [
       "                   course_offering_uuid  sum(f_count)\n",
       "0  c939dd5e-43ba-3266-8f74-573f629de75b             0\n",
       "1  75fdf27b-0e52-3544-96eb-d594a5ad969f             0\n",
       "2  cfeba94d-8e0e-320b-a904-ea2c2a31c000             7\n",
       "3  ceabe145-78e5-33c2-9b68-3a1eea9c2864             4"
      ]
     },
     "execution_count": 62,
     "metadata": {},
     "output_type": "execute_result"
    }
   ],
   "source": [
    "step1 = grade_distributions.groupBy(\"course_offering_uuid\").sum(\"f_count\")\n",
    "step1.limit(4).toPandas()"
   ]
  },
  {
   "cell_type": "code",
   "execution_count": 63,
   "metadata": {},
   "outputs": [
    {
     "data": {
      "text/html": [
       "<div>\n",
       "<style scoped>\n",
       "    .dataframe tbody tr th:only-of-type {\n",
       "        vertical-align: middle;\n",
       "    }\n",
       "\n",
       "    .dataframe tbody tr th {\n",
       "        vertical-align: top;\n",
       "    }\n",
       "\n",
       "    .dataframe thead th {\n",
       "        text-align: right;\n",
       "    }\n",
       "</style>\n",
       "<table border=\"1\" class=\"dataframe\">\n",
       "  <thead>\n",
       "    <tr style=\"text-align: right;\">\n",
       "      <th></th>\n",
       "      <th>name</th>\n",
       "      <th>sum(f_count)</th>\n",
       "    </tr>\n",
       "  </thead>\n",
       "  <tbody>\n",
       "    <tr>\n",
       "      <th>80166</th>\n",
       "      <td>Calculus&amp;Analytic Geometry</td>\n",
       "      <td>63</td>\n",
       "    </tr>\n",
       "    <tr>\n",
       "      <th>80167</th>\n",
       "      <td>Calculus&amp;Analytic Geometry 1</td>\n",
       "      <td>64</td>\n",
       "    </tr>\n",
       "    <tr>\n",
       "      <th>80168</th>\n",
       "      <td>Calculus&amp;Analytic Geometry</td>\n",
       "      <td>67</td>\n",
       "    </tr>\n",
       "    <tr>\n",
       "      <th>80169</th>\n",
       "      <td>Animal Biology</td>\n",
       "      <td>70</td>\n",
       "    </tr>\n",
       "    <tr>\n",
       "      <th>80170</th>\n",
       "      <td>Calc--Functns of Variables</td>\n",
       "      <td>72</td>\n",
       "    </tr>\n",
       "  </tbody>\n",
       "</table>\n",
       "</div>"
      ],
      "text/plain": [
       "                               name  sum(f_count)\n",
       "80166    Calculus&Analytic Geometry            63\n",
       "80167  Calculus&Analytic Geometry 1            64\n",
       "80168    Calculus&Analytic Geometry            67\n",
       "80169                Animal Biology            70\n",
       "80170    Calc--Functns of Variables            72"
      ]
     },
     "execution_count": 63,
     "metadata": {},
     "output_type": "execute_result"
    }
   ],
   "source": [
    "step2 = step1.join(course_offerings, step1.course_offering_uuid == course_offerings.uuid, how='left').select(['name', 'sum(f_count)']).orderBy(\"sum(f_count)\")\n",
    "step2.toPandas().tail(5)"
   ]
  },
  {
   "cell_type": "code",
   "execution_count": 61,
   "metadata": {},
   "outputs": [
    {
     "name": "stdout",
     "output_type": "stream",
     "text": [
      "['course_offerings', 'courses', 'grade_distributions', 'instructors', 'rooms', 'schedules', 'sections', 'subject_memberships', 'subjects', 'teachings']\n",
      " \n",
      "course_offerings : ['uuid', 'course_uuid', 'term_code', 'name']\n",
      "courses : ['uuid', 'name', 'number']\n",
      "grade_distributions : ['course_offering_uuid', 'section_number', 'a_count', 'ab_count', 'b_count', 'bc_count', 'c_count', 'd_count', 'f_count', 's_count', 'u_count', 'cr_count', 'n_count', 'p_count', 'i_count', 'nw_count', 'nr_count', 'other_count']\n",
      "instructors:  ['id', 'name']\n",
      "rooms : ['uuid', 'facility_code', 'room_code']\n",
      "schedules : ['uuid', 'start_time', 'end_time', 'mon', 'tues', 'wed', 'thurs', 'fri', 'sat', 'sun']\n",
      "sections : ['uuid', 'course_offering_uuid', 'section_type', 'number', 'room_uuid', 'schedule_uuid']\n",
      "subject_memberships : ['subject_code', 'course_offering_uuid']\n",
      "subject : ['code', 'name', 'abbreviation']\n",
      "teachings : ['instructor_id', 'section_uuid']\n"
     ]
    }
   ],
   "source": [
    "print(df_list)\n",
    "print(\" \")\n",
    "print('course_offerings :', course_offerings.columns)\n",
    "print('courses :', courses.columns)\n",
    "print('grade_distributions :', grade_distributions.columns)\n",
    "print('instructors: ', instructors.columns)\n",
    "print('rooms :', rooms.columns)\n",
    "print('schedules :', schedules.columns)\n",
    "print('sections :', sections.columns)\n",
    "print('subject_memberships :', subject_memberships.columns)\n",
    "print('subject :', subjects.columns)\n",
    "print('teachings :', teachings.columns )"
   ]
  }
 ],
 "metadata": {
  "kernelspec": {
   "display_name": "Pyspark 2",
   "language": "python",
   "name": "pyspark2"
  },
  "language_info": {
   "codemirror_mode": {
    "name": "ipython",
    "version": 3
   },
   "file_extension": ".py",
   "mimetype": "text/x-python",
   "name": "python",
   "nbconvert_exporter": "python",
   "pygments_lexer": "ipython3",
   "version": "3.6.8"
  }
 },
 "nbformat": 4,
 "nbformat_minor": 4
}
